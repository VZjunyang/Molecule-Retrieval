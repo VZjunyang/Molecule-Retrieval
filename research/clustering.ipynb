{
 "cells": [
  {
   "cell_type": "code",
   "execution_count": 1,
   "metadata": {},
   "outputs": [],
   "source": [
    "import os\n",
    "parent_path = os.path.dirname(os.getcwd())\n",
    "os.chdir(parent_path)"
   ]
  },
  {
   "cell_type": "code",
   "execution_count": 2,
   "metadata": {},
   "outputs": [],
   "source": [
    "from utils.dataloader import GraphTextDataset, GraphDataset, TextDataset\n",
    "from torch_geometric.data import DataLoader\n",
    "# from models.Model import BaseModel\n",
    "from models.model2 import GAT_MLP\n",
    "# from models.model3_transfert_learning import GAT_MLP_TL\n",
    "import numpy as np\n",
    "from transformers import AutoTokenizer\n",
    "import torch\n",
    "from torch import optim\n",
    "import time\n",
    "import pandas as pd\n",
    "from torch.optim.lr_scheduler import ReduceLROnPlateau\n",
    "from utils.variables import ROOT_DIR\n",
    "\n",
    "torch.cuda.empty_cache()"
   ]
  },
  {
   "cell_type": "code",
   "execution_count": 3,
   "metadata": {},
   "outputs": [],
   "source": [
    "train = pd.read_csv(ROOT_DIR + '/data/train.tsv', sep='\\t', header=None)\n",
    "sample_train = train.sample(6000, random_state=42)\n",
    "sample_train.to_csv(ROOT_DIR + '/data/sample_train.tsv', sep='\\t', header=False, index=False)"
   ]
  },
  {
   "cell_type": "code",
   "execution_count": 4,
   "metadata": {},
   "outputs": [],
   "source": [
    "model_name = 'allenai/scibert_scivocab_uncased'\n",
    "tokenizer = AutoTokenizer.from_pretrained(model_name)\n",
    "gt = np.load(\"./data/token_embedding_dict.npy\", allow_pickle=True)[()]\n",
    "val_dataset = GraphTextDataset(root='./data/', gt=gt, split='val', tokenizer=tokenizer)\n",
    "train_dataset = GraphTextDataset(root='./data/', gt=gt, split='sample_train', tokenizer=tokenizer)"
   ]
  },
  {
   "cell_type": "code",
   "execution_count": 5,
   "metadata": {},
   "outputs": [
    {
     "name": "stderr",
     "output_type": "stream",
     "text": [
      "/tmp/ipykernel_973650/1274117589.py:3: FutureWarning: You are using `torch.load` with `weights_only=False` (the current default value), which uses the default pickle module implicitly. It is possible to construct malicious pickle data which will execute arbitrary code during unpickling (See https://github.com/pytorch/pytorch/blob/main/SECURITY.md#untrusted-models for more details). In a future release, the default value for `weights_only` will be flipped to `True`. This limits the functions that could be executed during unpickling. Arbitrary objects will no longer be allowed to be loaded via this mode unless they are explicitly allowlisted by the user via `torch.serialization.add_safe_globals`. We recommend you start setting `weights_only=True` for any use case where you don't have full control of the loaded file. Please open an issue on GitHub for any issues related to this experimental feature.\n",
      "  checkpoint = torch.load(ROOT_DIR + '/logs/model_20241127_171613.pt')\n",
      "2024-11-29 19:08:17.342823: E external/local_xla/xla/stream_executor/cuda/cuda_fft.cc:477] Unable to register cuFFT factory: Attempting to register factory for plugin cuFFT when one has already been registered\n",
      "WARNING: All log messages before absl::InitializeLog() is called are written to STDERR\n",
      "E0000 00:00:1732903697.353883  973650 cuda_dnn.cc:8310] Unable to register cuDNN factory: Attempting to register factory for plugin cuDNN when one has already been registered\n",
      "E0000 00:00:1732903697.357213  973650 cuda_blas.cc:1418] Unable to register cuBLAS factory: Attempting to register factory for plugin cuBLAS when one has already been registered\n",
      "2024-11-29 19:08:17.368147: I tensorflow/core/platform/cpu_feature_guard.cc:210] This TensorFlow binary is optimized to use available CPU instructions in performance-critical operations.\n",
      "To enable the following instructions: AVX2 FMA, in other operations, rebuild TensorFlow with the appropriate compiler flags.\n"
     ]
    },
    {
     "data": {
      "text/plain": [
       "GAT_MLP(\n",
       "  (graph_encoder): GraphEncoder(\n",
       "    (relu): ReLU()\n",
       "    (ln): LayerNorm((300,), eps=1e-05, elementwise_affine=True)\n",
       "    (conv1): GATConv(300, 300, heads=1)\n",
       "    (conv2): GATConv(300, 300, heads=1)\n",
       "    (conv3): GATConv(300, 300, heads=1)\n",
       "    (mol_hidden1): Linear(in_features=300, out_features=300, bias=True)\n",
       "    (mol_hidden2): Linear(in_features=300, out_features=768, bias=True)\n",
       "  )\n",
       "  (text_encoder): TextEncoder(\n",
       "    (bert): BertModel(\n",
       "      (embeddings): BertEmbeddings(\n",
       "        (word_embeddings): Embedding(31090, 768, padding_idx=0)\n",
       "        (position_embeddings): Embedding(512, 768)\n",
       "        (token_type_embeddings): Embedding(2, 768)\n",
       "        (LayerNorm): LayerNorm((768,), eps=1e-12, elementwise_affine=True)\n",
       "        (dropout): Dropout(p=0.1, inplace=False)\n",
       "      )\n",
       "      (encoder): BertEncoder(\n",
       "        (layer): ModuleList(\n",
       "          (0-11): 12 x BertLayer(\n",
       "            (attention): BertAttention(\n",
       "              (self): BertSdpaSelfAttention(\n",
       "                (query): Linear(in_features=768, out_features=768, bias=True)\n",
       "                (key): Linear(in_features=768, out_features=768, bias=True)\n",
       "                (value): Linear(in_features=768, out_features=768, bias=True)\n",
       "                (dropout): Dropout(p=0.1, inplace=False)\n",
       "              )\n",
       "              (output): BertSelfOutput(\n",
       "                (dense): Linear(in_features=768, out_features=768, bias=True)\n",
       "                (LayerNorm): LayerNorm((768,), eps=1e-12, elementwise_affine=True)\n",
       "                (dropout): Dropout(p=0.1, inplace=False)\n",
       "              )\n",
       "            )\n",
       "            (intermediate): BertIntermediate(\n",
       "              (dense): Linear(in_features=768, out_features=3072, bias=True)\n",
       "              (intermediate_act_fn): GELUActivation()\n",
       "            )\n",
       "            (output): BertOutput(\n",
       "              (dense): Linear(in_features=3072, out_features=768, bias=True)\n",
       "              (LayerNorm): LayerNorm((768,), eps=1e-12, elementwise_affine=True)\n",
       "              (dropout): Dropout(p=0.1, inplace=False)\n",
       "            )\n",
       "          )\n",
       "        )\n",
       "      )\n",
       "      (pooler): BertPooler(\n",
       "        (dense): Linear(in_features=768, out_features=768, bias=True)\n",
       "        (activation): Tanh()\n",
       "      )\n",
       "    )\n",
       "  )\n",
       ")"
      ]
     },
     "execution_count": 5,
     "metadata": {},
     "output_type": "execute_result"
    }
   ],
   "source": [
    "# loading the model\n",
    "device = torch.device(\"cuda\" if torch.cuda.is_available() else \"cpu\")\n",
    "checkpoint = torch.load(ROOT_DIR + '/logs/model_20241127_171613.pt')\n",
    "model = GAT_MLP(model_name=model_name, num_node_features=300, nout=768, nhid=300, graph_hidden_channels=300) \n",
    "model.load_state_dict(checkpoint)\n",
    "model.to(device)"
   ]
  },
  {
   "cell_type": "code",
   "execution_count": 6,
   "metadata": {},
   "outputs": [
    {
     "name": "stderr",
     "output_type": "stream",
     "text": [
      "/Data/victor.zhuang/Code/MIT/env/lib64/python3.9/site-packages/torch_geometric/deprecation.py:26: UserWarning: 'data.DataLoader' is deprecated, use 'loader.DataLoader' instead\n",
      "  warnings.warn(out)\n",
      "/Data/victor.zhuang/Code/Molecule Retrieval/utils/dataloader.py:85: FutureWarning: You are using `torch.load` with `weights_only=False` (the current default value), which uses the default pickle module implicitly. It is possible to construct malicious pickle data which will execute arbitrary code during unpickling (See https://github.com/pytorch/pytorch/blob/main/SECURITY.md#untrusted-models for more details). In a future release, the default value for `weights_only` will be flipped to `True`. This limits the functions that could be executed during unpickling. Arbitrary objects will no longer be allowed to be loaded via this mode unless they are explicitly allowlisted by the user via `torch.serialization.add_safe_globals`. We recommend you start setting `weights_only=True` for any use case where you don't have full control of the loaded file. Please open an issue on GitHub for any issues related to this experimental feature.\n",
      "  data = torch.load(osp.join(self.processed_dir, 'data_{}.pt'.format(self.idx_to_cid[idx])))\n"
     ]
    }
   ],
   "source": [
    "data_loader = DataLoader(val_dataset, batch_size=128, shuffle=True)\n",
    "\n",
    "model.eval()\n",
    "count = 0 \n",
    "\n",
    "graphs_embedding = []\n",
    "texts_embedding = []\n",
    "for batch in data_loader:\n",
    "    count +=1\n",
    "    input_ids = batch.input_ids\n",
    "    batch.pop('input_ids')\n",
    "    attention_mask = batch.attention_mask\n",
    "    batch.pop('attention_mask')\n",
    "    graph_batch = batch\n",
    "    \n",
    "    x_graph, x_text = model(graph_batch.to(device), \n",
    "                            input_ids.to(device), \n",
    "                            attention_mask.to(device))\n",
    "    \n",
    "    x_graph = x_graph.detach().cpu()\n",
    "    x_text = x_text.detach().cpu()\n",
    "\n",
    "    graphs_embedding.append(x_graph)\n",
    "    texts_embedding.append(x_text)"
   ]
  },
  {
   "cell_type": "code",
   "execution_count": 7,
   "metadata": {},
   "outputs": [],
   "source": [
    "graphs_embedding = torch.cat(graphs_embedding, dim=0)\n",
    "texts_embedding = torch.cat(texts_embedding, dim=0)"
   ]
  },
  {
   "cell_type": "code",
   "execution_count": 8,
   "metadata": {},
   "outputs": [],
   "source": [
    "texts = pd.DataFrame(val_dataset.description)\n",
    "graph_df = pd.DataFrame(graphs_embedding.numpy(), columns=[f'graph_emb_{i}' for i in range(graphs_embedding.shape[1])], index=texts.index)\n",
    "text_df = pd.DataFrame(texts_embedding.numpy(), columns=[f'text_emb_{i}' for i in range(texts_embedding.shape[1])], index=texts.index)"
   ]
  },
  {
   "cell_type": "code",
   "execution_count": 10,
   "metadata": {},
   "outputs": [],
   "source": [
    "graphs_embedding_normalized = (graph_df - graph_df.mean()) / graph_df.std()\n",
    "texts_embedding_normalized = (text_df - text_df.mean()) / text_df.std()"
   ]
  },
  {
   "cell_type": "code",
   "execution_count": 11,
   "metadata": {},
   "outputs": [
    {
     "data": {
      "image/png": "[encoded data removed]",
      "text/plain": [
       "<Figure size 640x480 with 1 Axes>"
      ]
     },
     "metadata": {},
     "output_type": "display_data"
    }
   ],
   "source": [
    "from sklearn.manifold import TSNE\n",
    "from sklearn.decomposition import PCA\n",
    "from sklearn.cluster import KMeans\n",
    "import matplotlib.pyplot as plt\n",
    "\n",
    "pca = PCA(n_components=30, random_state=42)\n",
    "pca_graphs = pca.fit_transform(graphs_embedding_normalized)\n",
    "\n",
    "# elbow method to find the optimal number of clusters\n",
    "inertia = []\n",
    "for k in range(2, 50):\n",
    "    kmeans = KMeans(n_clusters=k, random_state=42)\n",
    "    kmeans.fit(pca_graphs)\n",
    "    inertia.append(kmeans.inertia_)\n",
    "\n",
    "plt.plot(range(2, 50), inertia)\n",
    "plt.xlabel('Number of clusters')\n",
    "plt.ylabel('Inertia')\n",
    "plt.title('Elbow method')\n",
    "plt.show()"
   ]
  },
  {
   "cell_type": "code",
   "execution_count": 12,
   "metadata": {},
   "outputs": [],
   "source": [
    "kmeans = KMeans(n_clusters=8, random_state=42)\n",
    "kmeans.fit(pca_graphs)\n",
    "graph_df['cluster'] = kmeans.labels_"
   ]
  },
  {
   "cell_type": "code",
   "execution_count": 13,
   "metadata": {},
   "outputs": [],
   "source": [
    "from xgboost import XGBClassifier\n",
    "from sklearn.model_selection import train_test_split\n",
    "from sklearn.metrics import accuracy_score\n",
    "\n",
    "X = graph_df.drop('cluster', axis=1)\n",
    "y = graph_df['cluster']\n",
    "\n",
    "X_train, X_test, y_train, y_test = train_test_split(X, y, test_size=0.2, random_state=42)\n",
    "\n",
    "model = XGBClassifier(random_state=42)\n",
    "model.fit(X_train, y_train)\n",
    "\n",
    "y_pred = model.predict(X_test)\n",
    "accuracy = accuracy_score(y_test, y_pred)"
   ]
  },
  {
   "cell_type": "code",
   "execution_count": 14,
   "metadata": {},
   "outputs": [
    {
     "name": "stdout",
     "output_type": "stream",
     "text": [
      "Accuracy: 0.9561270801815431\n"
     ]
    }
   ],
   "source": [
    "print(f'Accuracy: {accuracy}')"
   ]
  },
  {
   "cell_type": "code",
   "execution_count": 15,
   "metadata": {},
   "outputs": [
    {
     "name": "stdout",
     "output_type": "stream",
     "text": [
      "Accuracy: 0.8502269288956127\n"
     ]
    }
   ],
   "source": [
    "X = text_df\n",
    "y = graph_df['cluster']\n",
    "\n",
    "X_train, X_test, y_train, y_test = train_test_split(X, y, test_size=0.2, random_state=42)\n",
    "\n",
    "model = XGBClassifier(random_state=42)\n",
    "model.fit(X_train, y_train)\n",
    "\n",
    "y_pred = model.predict(X_test)\n",
    "accuracy = accuracy_score(y_test, y_pred)\n",
    "print(f'Accuracy: {accuracy}')"
   ]
  },
  {
   "cell_type": "code",
   "execution_count": 16,
   "metadata": {},
   "outputs": [],
   "source": [
    "pca = PCA(n_components=170, random_state=42)\n",
    "pca_text = pca.fit_transform(texts_embedding_normalized)\n",
    "\n",
    "kmeans = KMeans(n_clusters=8, random_state=42)\n",
    "kmeans.fit(pca_text)\n",
    "text_df['cluster'] = kmeans.labels_"
   ]
  },
  {
   "cell_type": "code",
   "execution_count": 17,
   "metadata": {},
   "outputs": [],
   "source": [
    "kmeans = KMeans(n_clusters=10, random_state=42)\n",
    "kmeans.fit(np.concatenate((pca_graphs, pca_text), axis=1))\n",
    "clusters = kmeans.labels_"
   ]
  },
  {
   "cell_type": "code",
   "execution_count": 18,
   "metadata": {},
   "outputs": [
    {
     "name": "stdout",
     "output_type": "stream",
     "text": [
      "Similarity between graph and text embeddings\n",
      "ARI: 0.42784732694571476\n",
      "NMI: 0.47768014448490737\n",
      "\n",
      "Similarity between graph and graph+text embeddings\n",
      "ARI: 0.717217538478941\n",
      "NMI: 0.7728277273171267\n",
      "\n",
      "Similarity between text and graph+text embeddings\n",
      "ARI: 0.4870147598331233\n",
      "NMI: 0.5544920239320449\n"
     ]
    }
   ],
   "source": [
    "from sklearn.metrics import adjusted_rand_score, normalized_mutual_info_score\n",
    "\n",
    "print('Similarity between graph and text embeddings')\n",
    "print(f'ARI: {adjusted_rand_score(graph_df[\"cluster\"], text_df[\"cluster\"])}')\n",
    "print(f'NMI: {normalized_mutual_info_score(graph_df[\"cluster\"], text_df[\"cluster\"])}')\n",
    "print('')\n",
    "\n",
    "print('Similarity between graph and graph+text embeddings')\n",
    "print(f'ARI: {adjusted_rand_score(graph_df[\"cluster\"], clusters)}')\n",
    "print(f'NMI: {normalized_mutual_info_score(graph_df[\"cluster\"], clusters)}')\n",
    "print('')\n",
    "\n",
    "print('Similarity between text and graph+text embeddings')\n",
    "print(f'ARI: {adjusted_rand_score(clusters, text_df[\"cluster\"])}')\n",
    "print(f'NMI: {normalized_mutual_info_score(clusters, text_df[\"cluster\"])}')"
   ]
  },
  {
   "cell_type": "code",
   "execution_count": 19,
   "metadata": {},
   "outputs": [
    {
     "name": "stdout",
     "output_type": "stream",
     "text": [
      "Accuracy: 1.0\n"
     ]
    }
   ],
   "source": [
    "X = text_df\n",
    "y = text_df['cluster']\n",
    "\n",
    "X_train, X_test, y_train, y_test = train_test_split(X, y, test_size=0.2, random_state=42)\n",
    "\n",
    "model = XGBClassifier(random_state=42)\n",
    "model.fit(X_train, y_train)\n",
    "\n",
    "y_pred = model.predict(X_test)\n",
    "accuracy = accuracy_score(y_test, y_pred)\n",
    "print(f'Accuracy: {accuracy}')"
   ]
  },
  {
   "cell_type": "code",
   "execution_count": 20,
   "metadata": {},
   "outputs": [
    {
     "name": "stdout",
     "output_type": "stream",
     "text": [
      "Accuracy: 0.8078668683812406\n"
     ]
    }
   ],
   "source": [
    "X = graph_df\n",
    "y = text_df['cluster']\n",
    "\n",
    "X_train, X_test, y_train, y_test = train_test_split(X, y, test_size=0.2, random_state=42)\n",
    "\n",
    "model = XGBClassifier(random_state=42)\n",
    "model.fit(X_train, y_train)\n",
    "\n",
    "y_pred = model.predict(X_test)\n",
    "accuracy = accuracy_score(y_test, y_pred)\n",
    "print(f'Accuracy: {accuracy}')"
   ]
  },
  {
   "cell_type": "code",
   "execution_count": 21,
   "metadata": {},
   "outputs": [
    {
     "data": {
      "text/html": [
       "<div>\n",
       "<style scoped>\n",
       "    .dataframe tbody tr th:only-of-type {\n",
       "        vertical-align: middle;\n",
       "    }\n",
       "\n",
       "    .dataframe tbody tr th {\n",
       "        vertical-align: top;\n",
       "    }\n",
       "\n",
       "    .dataframe thead th {\n",
       "        text-align: right;\n",
       "    }\n",
       "</style>\n",
       "<table border=\"1\" class=\"dataframe\">\n",
       "  <thead>\n",
       "    <tr style=\"text-align: right;\">\n",
       "      <th></th>\n",
       "      <th>1</th>\n",
       "    </tr>\n",
       "  </thead>\n",
       "  <tbody>\n",
       "    <tr>\n",
       "      <th>21524386</th>\n",
       "      <td>R. ruber mycolic acid is a forty-six membered ...</td>\n",
       "    </tr>\n",
       "    <tr>\n",
       "      <th>25010750</th>\n",
       "      <td>N-hydroxytrihomomethionine is an N-hydroxy-alp...</td>\n",
       "    </tr>\n",
       "    <tr>\n",
       "      <th>16722148</th>\n",
       "      <td>Linkable Ro 320-1195 analogue is a racemic ana...</td>\n",
       "    </tr>\n",
       "    <tr>\n",
       "      <th>521348</th>\n",
       "      <td>3-mercaptohexanol is an alkanethiol that is he...</td>\n",
       "    </tr>\n",
       "    <tr>\n",
       "      <th>10700053</th>\n",
       "      <td>(2S)-1-O-(7Z,10Z,13Z)-hexadecatrienoyl-2-O-(7Z...</td>\n",
       "    </tr>\n",
       "    <tr>\n",
       "      <th>...</th>\n",
       "      <td>...</td>\n",
       "    </tr>\n",
       "    <tr>\n",
       "      <th>136227920</th>\n",
       "      <td>5'-AICm(1)IUp-3' is a tRNA oligonucleotide com...</td>\n",
       "    </tr>\n",
       "    <tr>\n",
       "      <th>8640</th>\n",
       "      <td>1-naphthylamine is a naphthylamine that is nap...</td>\n",
       "    </tr>\n",
       "    <tr>\n",
       "      <th>20640234</th>\n",
       "      <td>2-methyl-L-glutamine is a non-proteinogenic L-...</td>\n",
       "    </tr>\n",
       "    <tr>\n",
       "      <th>11373102</th>\n",
       "      <td>Isoiguesterin is a pentacyclic triterpenoid th...</td>\n",
       "    </tr>\n",
       "    <tr>\n",
       "      <th>31211</th>\n",
       "      <td>Zingerone is a ketone that is 4-phenylbutan-2-...</td>\n",
       "    </tr>\n",
       "  </tbody>\n",
       "</table>\n",
       "<p>417 rows × 1 columns</p>\n",
       "</div>"
      ],
      "text/plain": [
       "                                                           1\n",
       "21524386   R. ruber mycolic acid is a forty-six membered ...\n",
       "25010750   N-hydroxytrihomomethionine is an N-hydroxy-alp...\n",
       "16722148   Linkable Ro 320-1195 analogue is a racemic ana...\n",
       "521348     3-mercaptohexanol is an alkanethiol that is he...\n",
       "10700053   (2S)-1-O-(7Z,10Z,13Z)-hexadecatrienoyl-2-O-(7Z...\n",
       "...                                                      ...\n",
       "136227920  5'-AICm(1)IUp-3' is a tRNA oligonucleotide com...\n",
       "8640       1-naphthylamine is a naphthylamine that is nap...\n",
       "20640234   2-methyl-L-glutamine is a non-proteinogenic L-...\n",
       "11373102   Isoiguesterin is a pentacyclic triterpenoid th...\n",
       "31211      Zingerone is a ketone that is 4-phenylbutan-2-...\n",
       "\n",
       "[417 rows x 1 columns]"
      ]
     },
     "execution_count": 21,
     "metadata": {},
     "output_type": "execute_result"
    }
   ],
   "source": [
    "texts.loc[text_df['cluster']==7]"
   ]
  },
  {
   "cell_type": "code",
   "execution_count": 32,
   "metadata": {},
   "outputs": [
    {
     "name": "stdout",
     "output_type": "stream",
     "text": [
      "['fatty' 'substituted' 'groups' 'methyl' 'phosphate' 'compound' 'base'\n",
      " 'position' 'derives' 'amino' 'member' 'conjugate' 'hydroxy' 'role'\n",
      " 'metabolite' 'group' 'alpha' 'beta' 'acid' 'it']\n"
     ]
    }
   ],
   "source": [
    "# TF-IDF\n",
    "from sklearn.feature_extraction.text import TfidfVectorizer\n",
    "from nltk.corpus import stopwords\n",
    "\n",
    "stop_words = set(stopwords.words('english'))\n",
    "\n",
    "processed_texts = []\n",
    "for text in texts.loc[clusters==8, 1]:\n",
    "    processed_texts.append(' '.join([word for word in text.split() if word not in stop_words]))\n",
    "\n",
    "tfidf = TfidfVectorizer()\n",
    "tfidf_matrix = tfidf.fit_transform(processed_texts)\n",
    "tfidf_matrix = tfidf_matrix.toarray()\n",
    "\n",
    "# get the most important words\n",
    "feature_names = np.array(tfidf.get_feature_names_out())\n",
    "sorted_tfidf = np.argsort(tfidf_matrix.sum(axis=0))\n",
    "important_words = feature_names[sorted_tfidf[-20:]]\n",
    "print(important_words)"
   ]
  }
 ],
 "metadata": {
  "kernelspec": {
   "display_name": "env",
   "language": "python",
   "name": "python3"
  },
  "language_info": {
   "codemirror_mode": {
    "name": "ipython",
    "version": 3
   },
   "file_extension": ".py",
   "mimetype": "text/x-python",
   "name": "python",
   "nbconvert_exporter": "python",
   "pygments_lexer": "ipython3",
   "version": "3.9.19"
  }
 },
 "nbformat": 4,
 "nbformat_minor": 2
}
