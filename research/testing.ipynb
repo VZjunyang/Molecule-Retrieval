{
 "cells": [
  {
   "cell_type": "code",
   "execution_count": 1,
   "metadata": {},
   "outputs": [],
   "source": [
    "import os\n",
    "parent_path = os.path.dirname(os.getcwd())\n",
    "os.chdir(parent_path)"
   ]
  },
  {
   "cell_type": "code",
   "execution_count": 2,
   "metadata": {},
   "outputs": [],
   "source": [
    "from utils.dataloader import GraphTextDataset, GraphDataset, TextDataset\n",
    "from sklearn.metrics import silhouette_score\n",
    "from torch_geometric.data import DataLoader\n",
    "# from models.Model import BaseModel\n",
    "from models.model2 import GAT_MLP\n",
    "from models.model3_transfert_learning import GAT_MLP_TL\n",
    "import numpy as np\n",
    "from transformers import AutoTokenizer\n",
    "import torch\n",
    "from torch import optim\n",
    "import time\n",
    "import pandas as pd\n",
    "from torch.optim.lr_scheduler import ReduceLROnPlateau\n",
    "from utils.variables import ROOT_DIR\n",
    "from sklearn.decomposition import PCA\n",
    "from sklearn.cluster import DBSCAN\n",
    "import matplotlib.pyplot as plt\n",
    "from sklearn.neighbors import NearestNeighbors\n",
    "\n",
    "torch.cuda.empty_cache()"
   ]
  },
  {
   "cell_type": "code",
   "execution_count": 3,
   "metadata": {},
   "outputs": [],
   "source": [
    "# train = pd.read_csv(ROOT_DIR + '/data/train.tsv', sep='\\t', header=None)\n",
    "# sample_train = train.sample(6000, random_state=42)\n",
    "# sample_train.to_csv(ROOT_DIR + '/data/sample_train.tsv', sep='\\t', header=False, index=False)\n",
    "\n",
    "model_name = 'allenai/scibert_scivocab_uncased'\n",
    "tokenizer = AutoTokenizer.from_pretrained(model_name)\n",
    "gt = np.load(\"./data/token_embedding_dict.npy\", allow_pickle=True)[()]\n",
    "# val_dataset = GraphTextDataset(root='./data/', gt=gt, split='val', tokenizer=tokenizer)\n",
    "train_dataset = GraphTextDataset(root='./data/', gt=gt, split='sample_train', tokenizer=tokenizer)\n",
    "test_dataset = GraphTextDataset(root='./data/', gt=gt, split='new_test', tokenizer=tokenizer)"
   ]
  },
  {
   "cell_type": "code",
   "execution_count": 4,
   "metadata": {},
   "outputs": [
    {
     "name": "stderr",
     "output_type": "stream",
     "text": [
      "/tmp/ipykernel_1979308/1861394936.py:5: FutureWarning: You are using `torch.load` with `weights_only=False` (the current default value), which uses the default pickle module implicitly. It is possible to construct malicious pickle data which will execute arbitrary code during unpickling (See https://github.com/pytorch/pytorch/blob/main/SECURITY.md#untrusted-models for more details). In a future release, the default value for `weights_only` will be flipped to `True`. This limits the functions that could be executed during unpickling. Arbitrary objects will no longer be allowed to be loaded via this mode unless they are explicitly allowlisted by the user via `torch.serialization.add_safe_globals`. We recommend you start setting `weights_only=True` for any use case where you don't have full control of the loaded file. Please open an issue on GitHub for any issues related to this experimental feature.\n",
      "  checkpoint = torch.load(ROOT_DIR + '/logs/model_20241203_041408_PCA.pt') # GAT MLP 256 PCA\n",
      "2024-12-03 05:50:00.145257: E external/local_xla/xla/stream_executor/cuda/cuda_fft.cc:477] Unable to register cuFFT factory: Attempting to register factory for plugin cuFFT when one has already been registered\n",
      "WARNING: All log messages before absl::InitializeLog() is called are written to STDERR\n",
      "E0000 00:00:1733201400.160264 1979308 cuda_dnn.cc:8310] Unable to register cuDNN factory: Attempting to register factory for plugin cuDNN when one has already been registered\n",
      "E0000 00:00:1733201400.164814 1979308 cuda_blas.cc:1418] Unable to register cuBLAS factory: Attempting to register factory for plugin cuBLAS when one has already been registered\n",
      "2024-12-03 05:50:00.179533: I tensorflow/core/platform/cpu_feature_guard.cc:210] This TensorFlow binary is optimized to use available CPU instructions in performance-critical operations.\n",
      "To enable the following instructions: AVX2 FMA, in other operations, rebuild TensorFlow with the appropriate compiler flags.\n"
     ]
    },
    {
     "data": {
      "text/plain": [
       "GAT_MLP(\n",
       "  (graph_encoder): GraphEncoder(\n",
       "    (relu): ReLU()\n",
       "    (ln): LayerNorm((300,), eps=1e-05, elementwise_affine=True)\n",
       "    (conv1): GATConv(300, 300, heads=1)\n",
       "    (conv2): GATConv(300, 300, heads=1)\n",
       "    (conv3): GATConv(300, 300, heads=1)\n",
       "    (mol_hidden1): Linear(in_features=300, out_features=300, bias=True)\n",
       "    (mol_hidden2): Linear(in_features=300, out_features=256, bias=True)\n",
       "  )\n",
       "  (text_encoder): TextEncoder(\n",
       "    (bert): BertModel(\n",
       "      (embeddings): BertEmbeddings(\n",
       "        (word_embeddings): Embedding(31090, 768, padding_idx=0)\n",
       "        (position_embeddings): Embedding(512, 768)\n",
       "        (token_type_embeddings): Embedding(2, 768)\n",
       "        (LayerNorm): LayerNorm((768,), eps=1e-12, elementwise_affine=True)\n",
       "        (dropout): Dropout(p=0.1, inplace=False)\n",
       "      )\n",
       "      (encoder): BertEncoder(\n",
       "        (layer): ModuleList(\n",
       "          (0-11): 12 x BertLayer(\n",
       "            (attention): BertAttention(\n",
       "              (self): BertSdpaSelfAttention(\n",
       "                (query): Linear(in_features=768, out_features=768, bias=True)\n",
       "                (key): Linear(in_features=768, out_features=768, bias=True)\n",
       "                (value): Linear(in_features=768, out_features=768, bias=True)\n",
       "                (dropout): Dropout(p=0.1, inplace=False)\n",
       "              )\n",
       "              (output): BertSelfOutput(\n",
       "                (dense): Linear(in_features=768, out_features=768, bias=True)\n",
       "                (LayerNorm): LayerNorm((768,), eps=1e-12, elementwise_affine=True)\n",
       "                (dropout): Dropout(p=0.1, inplace=False)\n",
       "              )\n",
       "            )\n",
       "            (intermediate): BertIntermediate(\n",
       "              (dense): Linear(in_features=768, out_features=3072, bias=True)\n",
       "              (intermediate_act_fn): GELUActivation()\n",
       "            )\n",
       "            (output): BertOutput(\n",
       "              (dense): Linear(in_features=3072, out_features=768, bias=True)\n",
       "              (LayerNorm): LayerNorm((768,), eps=1e-12, elementwise_affine=True)\n",
       "              (dropout): Dropout(p=0.1, inplace=False)\n",
       "            )\n",
       "          )\n",
       "        )\n",
       "      )\n",
       "      (pooler): BertPooler(\n",
       "        (dense): Linear(in_features=768, out_features=768, bias=True)\n",
       "        (activation): Tanh()\n",
       "      )\n",
       "    )\n",
       "  )\n",
       ")"
      ]
     },
     "execution_count": 4,
     "metadata": {},
     "output_type": "execute_result"
    }
   ],
   "source": [
    "device = torch.device(\"cuda\" if torch.cuda.is_available() else \"cpu\")\n",
    "# checkpoint = torch.load(ROOT_DIR + '/logs/model_20241127_171613.pt')\n",
    "# checkpoint = torch.load(ROOT_DIR + '/logs/model_20241203_011950.pt') # GAT MLP 1024\n",
    "# checkpoint = torch.load(ROOT_DIR + '/logs/model_20241202_232208_MLPTL_256.pt') # GAT MLP 256\n",
    "checkpoint = torch.load(ROOT_DIR + '/logs/model_20241203_041408_PCA.pt') # GAT MLP 256 PCA\n",
    "# model = GAT_MLP(model_name=model_name, num_node_features=300, nout=768, nhid=300, graph_hidden_channels=300) \n",
    "# model = GAT_MLP_TL(model_name=model_name, num_node_features=300, nout=256, nhid=300, graph_hidden_channels=300)\n",
    "model = GAT_MLP(model_name=model_name, num_node_features=300, nout=256, nhid=300, graph_hidden_channels=300) # GAT MLP PCA 256\n",
    "model.load_state_dict(checkpoint)\n",
    "model.to(device)"
   ]
  },
  {
   "cell_type": "code",
   "execution_count": 5,
   "metadata": {},
   "outputs": [
    {
     "name": "stdout",
     "output_type": "stream",
     "text": [
      "Calculating PCA...\n"
     ]
    },
    {
     "name": "stderr",
     "output_type": "stream",
     "text": [
      "/Data/victor.zhuang/Code/MIT/env/lib64/python3.9/site-packages/torch_geometric/deprecation.py:26: UserWarning: 'data.DataLoader' is deprecated, use 'loader.DataLoader' instead\n",
      "  warnings.warn(out)\n",
      "/Data/victor.zhuang/Code/Molecule Retrieval/utils/dataloader.py:85: FutureWarning: You are using `torch.load` with `weights_only=False` (the current default value), which uses the default pickle module implicitly. It is possible to construct malicious pickle data which will execute arbitrary code during unpickling (See https://github.com/pytorch/pytorch/blob/main/SECURITY.md#untrusted-models for more details). In a future release, the default value for `weights_only` will be flipped to `True`. This limits the functions that could be executed during unpickling. Arbitrary objects will no longer be allowed to be loaded via this mode unless they are explicitly allowlisted by the user via `torch.serialization.add_safe_globals`. We recommend you start setting `weights_only=True` for any use case where you don't have full control of the loaded file. Please open an issue on GitHub for any issues related to this experimental feature.\n",
      "  data = torch.load(osp.join(self.processed_dir, 'data_{}.pt'.format(self.idx_to_cid[idx])))\n"
     ]
    },
    {
     "name": "stdout",
     "output_type": "stream",
     "text": [
      "PCA done!\n"
     ]
    }
   ],
   "source": [
    "### getting U, S, V\n",
    "print(\"Calculating PCA...\")\n",
    "pca_loader = DataLoader(train_dataset, batch_size=1)\n",
    "text_embeddings = []\n",
    "torch.cuda.empty_cache()\n",
    "for batch in iter(pca_loader):\n",
    "    input_ids = batch['input_ids'].to(device)\n",
    "    attention_mask = batch['attention_mask'].to(device)    \n",
    "    text_embeddings.append(model.get_text_encoder()(input_ids, attention_mask).detach().cpu().numpy())\n",
    "    input_ids.detach()\n",
    "\n",
    "    attention_mask.detach()\n",
    "\n",
    "    with torch.cuda.device(device):\n",
    "        torch.cuda.empty_cache()\n",
    "embedding_output = torch.tensor(np.array(text_embeddings).reshape(-1, 768))\n",
    "U, S, V = torch.pca_lowrank(embedding_output, q=256)\n",
    "U = U.to(device)\n",
    "S = S.to(device)\n",
    "V = V.to(device)\n",
    "print(\"PCA done!\")\n",
    "###"
   ]
  },
  {
   "cell_type": "code",
   "execution_count": 6,
   "metadata": {},
   "outputs": [],
   "source": [
    "def projected_embeddings(A):\n",
    "    return torch.matmul(A, V)"
   ]
  },
  {
   "cell_type": "code",
   "execution_count": 7,
   "metadata": {},
   "outputs": [],
   "source": [
    "def MRR(logits, labels):\n",
    "    sorted_indices = torch.argsort(logits, descending=True)\n",
    "    ranks = torch.zeros_like(labels, dtype=torch.float32)\n",
    "    for i, label in enumerate(labels):\n",
    "            rank = (sorted_indices[i] == label).nonzero(as_tuple=True)[0].item() + 1\n",
    "            ranks[i] = 1.0 / rank  \n",
    "    mrr = ranks.mean()\n",
    "    return mrr.tolist()"
   ]
  },
  {
   "cell_type": "code",
   "execution_count": 10,
   "metadata": {},
   "outputs": [],
   "source": [
    "data_loader = DataLoader(test_dataset, batch_size=32, shuffle=True)\n",
    "\n",
    "model.eval()\n",
    "L = []\n",
    "for batch in data_loader:\n",
    "    input_ids = batch.input_ids\n",
    "    batch.pop('input_ids')\n",
    "    attention_mask = batch.attention_mask\n",
    "    batch.pop('attention_mask')\n",
    "    graph_batch = batch\n",
    "    \n",
    "    x_graph, x_text = model(graph_batch.to(device), \n",
    "                            input_ids.to(device), \n",
    "                            attention_mask.to(device))\n",
    "    \n",
    "    x_text = projected_embeddings(x_text)\n",
    "    \n",
    "    logits = torch.matmul(x_graph, torch.transpose(x_text, 0, 1))\n",
    "    labels = torch.arange(logits.shape[0], device=x_graph.device)\n",
    "    mrr = MRR(logits, labels)\n",
    "\n",
    "    # GPU memory management\n",
    "    input_ids.detach()\n",
    "    attention_mask.detach()\n",
    "    graph_batch.detach()\n",
    "    x_graph.detach()\n",
    "    x_text.detach()\n",
    "\n",
    "    L.append(mrr)"
   ]
  },
  {
   "cell_type": "code",
   "execution_count": 11,
   "metadata": {},
   "outputs": [
    {
     "data": {
      "text/plain": [
       "0.13936140753615361"
      ]
     },
     "execution_count": 11,
     "metadata": {},
     "output_type": "execute_result"
    }
   ],
   "source": [
    "np.mean(L)"
   ]
  },
  {
   "cell_type": "markdown",
   "metadata": {},
   "source": [
    "batch: 16, 32, 64, 96\n",
    "\n",
    "GAT-768: 0.97, 0.96, 0.94, NaN\n",
    "\n",
    "GAT-MLP 1024: 0.92, 0.86, 0.78, 0.73 \n",
    "\n",
    "GAT-MLP 256: 0.89, 0.81, 0.71, 0.66\n",
    "\n",
    "GAT-MLP PCA: 0.23, 0.13"
   ]
  }
 ],
 "metadata": {
  "kernelspec": {
   "display_name": "Python (edge)",
   "language": "python",
   "name": "edge"
  },
  "language_info": {
   "codemirror_mode": {
    "name": "ipython",
    "version": 3
   },
   "file_extension": ".py",
   "mimetype": "text/x-python",
   "name": "python",
   "nbconvert_exporter": "python",
   "pygments_lexer": "ipython3",
   "version": "3.9.19"
  }
 },
 "nbformat": 4,
 "nbformat_minor": 2
}
